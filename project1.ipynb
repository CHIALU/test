{
 "cells": [
  {
   "cell_type": "markdown",
   "metadata": {},
   "source": [
    "## First projrck\n",
    "### search.ipynb in projects\n",
    " - __number__\n",
    " - file name"
   ]
  },
  {
   "cell_type": "code",
   "execution_count": 1,
   "metadata": {},
   "outputs": [],
   "source": [
    "import os "
   ]
  },
  {
   "cell_type": "code",
   "execution_count": 3,
   "metadata": {},
   "outputs": [
    {
     "data": {
      "text/plain": [
       "['.git',\n",
       " '.ipynb_checkpoints',\n",
       " '1439653816-1202005419_n.jpg',\n",
       " 'demo.ipynb',\n",
       " 'demo1.ipynb',\n",
       " 'demo2.ipynb',\n",
       " 'index.md',\n",
       " 'project1.ipynb',\n",
       " 'python_code.py',\n",
       " 'README.md',\n",
       " 'test.txt',\n",
       " '_config.yml']"
      ]
     },
     "execution_count": 3,
     "metadata": {},
     "output_type": "execute_result"
    }
   ],
   "source": [
    "os.listdir()"
   ]
  },
  {
   "cell_type": "code",
   "execution_count": 5,
   "metadata": {},
   "outputs": [
    {
     "data": {
      "text/plain": [
       "range(0, 20)"
      ]
     },
     "execution_count": 5,
     "metadata": {},
     "output_type": "execute_result"
    }
   ],
   "source": [
    "range(20)"
   ]
  },
  {
   "cell_type": "code",
   "execution_count": 6,
   "metadata": {},
   "outputs": [
    {
     "name": "stdout",
     "output_type": "stream",
     "text": [
      "0\n",
      "1\n",
      "2\n",
      "3\n",
      "4\n",
      "5\n",
      "6\n",
      "7\n",
      "8\n",
      "9\n"
     ]
    }
   ],
   "source": [
    "for i in range(10) :\n",
    "    print (i)"
   ]
  },
  {
   "cell_type": "code",
   "execution_count": 7,
   "metadata": {},
   "outputs": [],
   "source": [
    "files = os.listdir()"
   ]
  },
  {
   "cell_type": "code",
   "execution_count": 8,
   "metadata": {},
   "outputs": [
    {
     "data": {
      "text/plain": [
       "['.git',\n",
       " '.ipynb_checkpoints',\n",
       " '1439653816-1202005419_n.jpg',\n",
       " 'demo.ipynb',\n",
       " 'demo1.ipynb',\n",
       " 'demo2.ipynb',\n",
       " 'index.md',\n",
       " 'project1.ipynb',\n",
       " 'python_code.py',\n",
       " 'README.md',\n",
       " 'test.txt',\n",
       " '_config.yml']"
      ]
     },
     "execution_count": 8,
     "metadata": {},
     "output_type": "execute_result"
    }
   ],
   "source": [
    "files"
   ]
  },
  {
   "cell_type": "code",
   "execution_count": 9,
   "metadata": {},
   "outputs": [
    {
     "data": {
      "text/plain": [
       "12"
      ]
     },
     "execution_count": 9,
     "metadata": {},
     "output_type": "execute_result"
    }
   ],
   "source": [
    "len(files)"
   ]
  },
  {
   "cell_type": "code",
   "execution_count": 11,
   "metadata": {},
   "outputs": [
    {
     "data": {
      "text/plain": [
       "'.git'"
      ]
     },
     "execution_count": 11,
     "metadata": {},
     "output_type": "execute_result"
    }
   ],
   "source": [
    "files[0]"
   ]
  },
  {
   "cell_type": "raw",
   "metadata": {},
   "source": [
    "for _ in files :\n",
    "    print (_)"
   ]
  },
  {
   "cell_type": "code",
   "execution_count": 12,
   "metadata": {},
   "outputs": [
    {
     "name": "stdout",
     "output_type": "stream",
     "text": [
      "1 :.git\n",
      "2 :.ipynb_checkpoints\n",
      "3 :1439653816-1202005419_n.jpg\n",
      "4 :demo.ipynb\n",
      "5 :demo1.ipynb\n",
      "6 :demo2.ipynb\n",
      "7 :index.md\n",
      "8 :project1.ipynb\n",
      "9 :python_code.py\n",
      "10 :README.md\n",
      "11 :test.txt\n",
      "12 :_config.yml\n"
     ]
    }
   ],
   "source": [
    "i = 0\n",
    "for _ in files:\n",
    "    i = i +1\n",
    "    print (str(i) + \" :\"+ _)"
   ]
  },
  {
   "cell_type": "code",
   "execution_count": 14,
   "metadata": {},
   "outputs": [
    {
     "name": "stdout",
     "output_type": "stream",
     "text": [
      "2 :.ipynb_checkpoints\n",
      "4 :demo.ipynb\n",
      "5 :demo1.ipynb\n",
      "6 :demo2.ipynb\n",
      "8 :project1.ipynb\n"
     ]
    }
   ],
   "source": [
    "i = 0\n",
    "for _ in files:\n",
    "    i = i +1\n",
    "    if '.ipynb' in _ :\n",
    "        print (str(i) + \" :\"+ _)"
   ]
  },
  {
   "cell_type": "code",
   "execution_count": 15,
   "metadata": {},
   "outputs": [
    {
     "name": "stdout",
     "output_type": "stream",
     "text": [
      "4 :demo.ipynb\n",
      "5 :demo1.ipynb\n",
      "6 :demo2.ipynb\n",
      "8 :project1.ipynb\n"
     ]
    }
   ],
   "source": [
    "i = 0\n",
    "for _ in files:\n",
    "    i = i +1\n",
    "    if _.endswith('.ipynb') :\n",
    "        print (str(i) + \" :\"+ _)"
   ]
  },
  {
   "cell_type": "code",
   "execution_count": 19,
   "metadata": {},
   "outputs": [
    {
     "name": "stdout",
     "output_type": "stream",
     "text": [
      "4 :demo.ipynb\n",
      "5 :demo1.ipynb\n",
      "6 :demo2.ipynb\n",
      "8 :project1.ipynb\n",
      "4\n"
     ]
    }
   ],
   "source": [
    "i = 0\n",
    "j = 0\n",
    "for _ in files:\n",
    "    i = i +1\n",
    "    if _.endswith('.ipynb') :\n",
    "        j = j + 1\n",
    "        print (str(i) + \" :\"+ _)\n",
    "print (j)"
   ]
  },
  {
   "cell_type": "code",
   "execution_count": 20,
   "metadata": {},
   "outputs": [
    {
     "name": "stdout",
     "output_type": "stream",
     "text": [
      "4 :demo.ipynb\n",
      "5 :demo1.ipynb\n",
      "6 :demo2.ipynb\n",
      "8 :project1.ipynb\n",
      "4\n"
     ]
    }
   ],
   "source": [
    "i = 0\n",
    "j = 0\n",
    "for _ in files:\n",
    "    i = i +1\n",
    "    # if 'string' in _:\n",
    "    if _.endswith('.ipynb') :\n",
    "        j = j + 1\n",
    "        print (str(i) + \" :\"+ _)\n",
    "print (j)"
   ]
  },
  {
   "cell_type": "code",
   "execution_count": null,
   "metadata": {},
   "outputs": [],
   "source": []
  }
 ],
 "metadata": {
  "kernelspec": {
   "display_name": "Python 3",
   "language": "python",
   "name": "python3"
  },
  "language_info": {
   "codemirror_mode": {
    "name": "ipython",
    "version": 3
   },
   "file_extension": ".py",
   "mimetype": "text/x-python",
   "name": "python",
   "nbconvert_exporter": "python",
   "pygments_lexer": "ipython3",
   "version": "3.7.1"
  }
 },
 "nbformat": 4,
 "nbformat_minor": 2
}
